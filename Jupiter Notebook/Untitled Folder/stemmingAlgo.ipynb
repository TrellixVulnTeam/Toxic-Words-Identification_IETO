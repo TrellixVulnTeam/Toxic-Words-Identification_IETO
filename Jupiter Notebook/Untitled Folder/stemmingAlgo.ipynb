{
 "cells": [
  {
   "cell_type": "code",
   "execution_count": 1,
   "metadata": {},
   "outputs": [
    {
     "name": "stdout",
     "output_type": "stream",
     "text": [
      "showing info https://raw.githubusercontent.com/nltk/nltk_data/gh-pages/index.xml\n"
     ]
    },
    {
     "data": {
      "text/plain": [
       "True"
      ]
     },
     "execution_count": 1,
     "metadata": {},
     "output_type": "execute_result"
    }
   ],
   "source": [
    "#import the nltk package\n",
    "import nltk\n",
    "#call the nltk downloader\n",
    "nltk.download()"
   ]
  },
  {
   "cell_type": "code",
   "execution_count": 2,
   "metadata": {},
   "outputs": [],
   "source": [
    "from nltk.stem import PorterStemmer\n",
    "from nltk.stem import LancasterStemmer"
   ]
  },
  {
   "cell_type": "code",
   "execution_count": 4,
   "metadata": {},
   "outputs": [
    {
     "name": "stdout",
     "output_type": "stream",
     "text": [
      "Porter Stemmer\n",
      "cat\n",
      "troubl\n",
      "troubl\n",
      "troubl\n",
      "Lancaster Stemmer\n",
      "cat\n",
      "troubl\n",
      "troubl\n",
      "troubl\n"
     ]
    }
   ],
   "source": [
    "#create an object of class PorterStemmer\n",
    "porter = PorterStemmer()\n",
    "lancaster=LancasterStemmer()\n",
    "#proide a word to be stemmed\n",
    "print(\"Porter Stemmer\")\n",
    "print(porter.stem(\"cats\"))\n",
    "print(porter.stem(\"trouble\"))\n",
    "print(porter.stem(\"troubling\"))\n",
    "print(porter.stem(\"troubled\"))\n",
    "print(\"Lancaster Stemmer\")\n",
    "print(lancaster.stem(\"cats\"))\n",
    "print(lancaster.stem(\"trouble\"))\n",
    "print(lancaster.stem(\"troubling\"))\n",
    "print(lancaster.stem(\"troubled\"))"
   ]
  },
  {
   "cell_type": "code",
   "execution_count": 9,
   "metadata": {},
   "outputs": [],
   "source": [
    "def get_frame(self):\n",
    "        frame = np.array(ImageGrab.grab(bbox=(\n",
    "            self.top_left[0], self.top_left[1], self.lower_right[0], self.lower_right[1])))\n",
    "        image = cv2.cvtColor(frame, cv2.COLOR_BGR2RGB)\n",
    "\n",
    "        ret, jpeg = cv2.imencode('.jpg', image)\n",
    "        return jpeg.tobytes() "
   ]
  },
  {
   "cell_type": "code",
   "execution_count": 12,
   "metadata": {},
   "outputs": [],
   "source": [
    "def get_SceenShot(userid):\n",
    "    im_path = get_ImagePath()\n",
    "    im_name = \"{}{}.{}\".format(im_path, int(time.time()), \"png\")\n",
    "    im = None\n",
    "\n",
    "    if platform.system() == \"Windows\" or platform.system() == \"Darwin\":\n",
    "        try:\n",
    "            from PIL import ImageGrab\n",
    "            im = ImageGrab.grab()\n",
    "        except OSError as e:\n",
    "            itchat.send(\"截图失败，请重试。\", toUserName=userid)\n",
    "            return\n",
    "\n",
    "    elif platform.system() == \"Linux\":\n",
    "        try:\n",
    "            import pyscreenshot as ImageGrab\n",
    "            im = ImageGrab.grab()\n",
    "        except OSError as e:\n",
    "            itchat.send(\"截图失败，请重试。\", toUserName=userid)\n",
    "            return\n",
    "    im.save(im_name)\n",
    "\n",
    "    if os.path.exists(im_name):\n",
    "        try:\n",
    "            itchat.send_image(im_name, toUserName=userid)\n",
    "        except BaseException as e:\n",
    "            import traceback\n",
    "            traceback.print_exc()\n",
    "            itchat.send(\"发送截图失败，请重试。\", toUserName=userid)\n",
    "    else:\n",
    "        itchat.send(\"截图失败，请重试。\", toUserName=userid)\n",
    "\n",
    "# 设置计划任务模块 "
   ]
  },
  {
   "cell_type": "code",
   "execution_count": 16,
   "metadata": {},
   "outputs": [
    {
     "name": "stdout",
     "output_type": "stream",
     "text": [
      "Full screen grab generated successfully!\n",
      "Area screen grab generated successfully!\n"
     ]
    }
   ],
   "source": [
    "from pathlib import Path\n",
    "import pyscreenshot as ImageGrab\n",
    "\n",
    "def grab_fullscreen(file_path):\n",
    "    image = ImageGrab.grab()\n",
    "    image.save(file_path)\n",
    "    print('Full screen grab generated successfully!')\n",
    "    image.show()\n",
    "\n",
    "def grab_screen_area_to(left, upper, right, bottom, file_path):\n",
    "    image = ImageGrab.grab(bbox=(left, upper, right, bottom))\n",
    "    image.save(file_path)\n",
    "    print('Area screen grab generated successfully!')\n",
    "    # image.show()\n",
    "\n",
    "if __name__ == \"__main__\":\n",
    "    #grab full screen\n",
    "    target_file_path = Path('full_screen.png')\n",
    "    target_file_path.touch()\n",
    "    grab_fullscreen(str(target_file_path.resolve()))\n",
    "\n",
    "    #grab partial area of screen\n",
    "    target_file_path = Path('area_screen.png')\n",
    "    target_file_path.touch()\n",
    "    grab_screen_area_to(0, 100, 500, 500, str(target_file_path.resolve()))"
   ]
  },
  {
   "cell_type": "code",
   "execution_count": 17,
   "metadata": {},
   "outputs": [],
   "source": [
    "from PIL import Image\n",
    "import logging\n",
    "from pyscreenshot import imcodec\n",
    "from pyscreenshot.about import __version__\n",
    "from pyscreenshot.loader import Loader, FailedBackendError\n",
    "from pyscreenshot.procutil import run_in_childprocess\n",
    "\n",
    "\n",
    "ADDITIONAL_IMPORTS=[FailedBackendError]\n",
    "\n",
    "log = logging.getLogger(__name__)\n",
    "log.debug('version=%s', __version__)\n",
    "\n",
    "\n",
    "def _grab_simple(to_file, backend=None, bbox=None, filename=None):\n",
    "    loader = Loader()\n",
    "    loader.force(backend)\n",
    "    backend_obj = loader.selected()\n",
    "\n",
    "    if to_file:\n",
    "        return backend_obj.grab_to_file(filename)\n",
    "    else:\n",
    "        return backend_obj.grab(bbox)\n",
    "\n",
    "\n",
    "def _grab(to_file, childprocess=True, backend=None, bbox=None, filename=None):\n",
    "    if childprocess:\n",
    "        log.debug('running \"%s\" in child process', backend)\n",
    "        return run_in_childprocess(_grab_simple, imcodec.codec, to_file, backend, bbox, filename)\n",
    "    else:\n",
    "        return _grab_simple(to_file, backend, bbox, filename)\n",
    "\n",
    "\n",
    "def grab(bbox=None, childprocess=True, backend=None):\n",
    "    \"\"\"Copy the contents of the screen to PIL image memory.\n",
    "\n",
    "    :param bbox: optional bounding box (x1,y1,x2,y2)\n",
    "    :param childprocess: pyscreenshot can cause an error,\n",
    "            if it is used on more different virtual displays\n",
    "            and back-end is not in different process.\n",
    "            Some back-ends are always different processes: scrot, imagemagick\n",
    "    :param backend: back-end can be forced if set (examples:scrot, wx,..),\n",
    "                    otherwise back-end is automatic\n",
    "\n",
    "    \"\"\"\n",
    "    return _grab(to_file=False, childprocess=childprocess, backend=backend, bbox=bbox)\n",
    "\n",
    "\n",
    "def grab_to_file(filename, childprocess=True, backend=None):\n",
    "    \"\"\"Copy the contents of the screen to a file.\n",
    "\n",
    "    :param filename: file for saving\n",
    "    :param childprocess: see :py:func:`grab`\n",
    "    :param backend: see :py:func:`grab`\n",
    "\n",
    "    \"\"\"\n",
    "    return _grab(to_file=True, childprocess=childprocess, backend=backend, filename=filename)\n",
    "\n",
    "\n",
    "def backends():\n",
    "    '''Back-end names as a list\n",
    "    \n",
    "    :return: back-ends as string list\n",
    "    '''\n",
    "    return Loader().all_names\n",
    "\n",
    "\n",
    "def _backend_version(backend):\n",
    "    loader = Loader()\n",
    "    loader.force(backend)\n",
    "    try:\n",
    "        x = loader.selected()\n",
    "        v = x.backend_version()\n",
    "    except Exception:\n",
    "        v = None\n",
    "    return v\n",
    "\n",
    "\n",
    "def backend_version(backend, childprocess=True):\n",
    "    '''Back-end version\n",
    "\n",
    "    :param backend: back-end (examples:scrot, wx,..)\n",
    "    :param childprocess: see :py:func:`grab`\n",
    "    :return: version as string\n",
    "    '''\n",
    "    if not childprocess:\n",
    "        return _backend_version(backend)\n",
    "    else:\n",
    "        return run_in_childprocess(_backend_version, None, backend)"
   ]
  }
 ],
 "metadata": {
  "kernelspec": {
   "display_name": "Python 3",
   "language": "python",
   "name": "python3"
  },
  "language_info": {
   "codemirror_mode": {
    "name": "ipython",
    "version": 3
   },
   "file_extension": ".py",
   "mimetype": "text/x-python",
   "name": "python",
   "nbconvert_exporter": "python",
   "pygments_lexer": "ipython3",
   "version": "3.7.4"
  }
 },
 "nbformat": 4,
 "nbformat_minor": 2
}

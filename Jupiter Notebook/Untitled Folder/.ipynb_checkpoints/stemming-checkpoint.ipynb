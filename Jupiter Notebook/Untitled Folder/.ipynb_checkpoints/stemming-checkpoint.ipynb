{
 "cells": [
  {
   "cell_type": "code",
   "execution_count": 3,
   "metadata": {},
   "outputs": [
    {
     "name": "stdout",
     "output_type": "stream",
     "text": [
      "Potter Stemmer Algorithm\n",
      "-------------------------\n",
      "catch\n",
      "buy\n",
      "bulli\n",
      "Lancaster algorithm\n",
      "--------------------\n",
      "cri\n",
      "achiev\n",
      "borrow\n",
      "end of the program\n"
     ]
    }
   ],
   "source": [
    "#import the nltk library\n",
    "import nltk\n",
    "from nltk.stem import PorterStemmer\n",
    "from nltk.stem import LancasterStemmer\n",
    "\n",
    "\n",
    "#create an object of class \n",
    "potter = PorterStemmer()\n",
    "lancaster = LancasterStemmer()\n",
    "print(\"Potter Stemmer Algorithm\")\n",
    "print(\"-------------------------\")\n",
    "#Words to be stemmed with Porter algorithm\n",
    "print(potter.stem(\"catching\"))\n",
    "print(potter.stem(\"buying\"))\n",
    "print(potter.stem(\"bullied\"))\n",
    "\n",
    "#Words to be stemmed with Lancaster algorithm\n",
    "print(\"Lancaster algorithm\")\n",
    "print(\"--------------------\")\n",
    "print(lancaster.stem(\"cried\"))\n",
    "print(lancaster.stem(\"achievement\"))\n",
    "print(lancaster.stem(\"borrowed\"))\n",
    "\n",
    "print(\"end of the program\")"
   ]
  },
  {
   "cell_type": "code",
   "execution_count": 5,
   "metadata": {},
   "outputs": [],
   "source": [
    "import pyscreenshot as ImageGrab\n",
    "\n",
    "if __name__ == \"__main__\":\n",
    "    # fullscreen\n",
    "    im=ImageGrab.grab()\n",
    "    im.show()"
   ]
  },
  {
   "cell_type": "code",
   "execution_count": null,
   "metadata": {},
   "outputs": [],
   "source": []
  }
 ],
 "metadata": {
  "kernelspec": {
   "display_name": "Python 3",
   "language": "python",
   "name": "python3"
  },
  "language_info": {
   "codemirror_mode": {
    "name": "ipython",
    "version": 3
   },
   "file_extension": ".py",
   "mimetype": "text/x-python",
   "name": "python",
   "nbconvert_exporter": "python",
   "pygments_lexer": "ipython3",
   "version": "3.7.4"
  }
 },
 "nbformat": 4,
 "nbformat_minor": 2
}

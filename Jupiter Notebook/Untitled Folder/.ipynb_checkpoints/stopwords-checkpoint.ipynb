{
 "cells": [
  {
   "cell_type": "code",
   "execution_count": 16,
   "metadata": {},
   "outputs": [
    {
     "name": "stdout",
     "output_type": "stream",
     "text": [
      "These are the word tokens\n",
      "-------------------------\n",
      "['this', 'project', 'is', 'harder', 'than', 'how', 'i', 'anticipated', ',', 'giving', 'me', 'headache', 'when', 'i', 'should', 'be', 'enjoying', 'myself', '.']\n",
      "\n",
      "\n",
      "These are the word filtered sentenses\n",
      "-------------------------\n",
      "['project', 'harder', 'anticipated', ',', 'giving', 'headache', 'enjoying', '.']\n",
      "\n",
      "\n",
      "These are the stemmed words\n",
      "-------------------------\n",
      "this project is harder than how i anticipated, giving me headache when i should be enjoying myself.\n"
     ]
    }
   ],
   "source": [
    "#import nltk package\n",
    "import nltk\n",
    "from nltk.corpus import stopwords\n",
    "from nltk.stem import PorterStemmer\n",
    "from nltk.tokenize import word_tokenize\n",
    "\n",
    "stop_words = set(stopwords.words('english'))\n",
    "potter = PorterStemmer()\n",
    "\n",
    "phrace = \"This PROJECT is harder than how I anticipated, giving me headache when I should be enjoying myself.\"\n",
    "phase1 = potter.stem(phrace)\n",
    "word_tokens = word_tokenize(phase1)\n",
    "\n",
    "filtered_sentence = [w for w in word_tokens if not w in stop_words] \n",
    "filtered_sentence = [] \n",
    "  \n",
    "for w in word_tokens: \n",
    "    if w not in stop_words: \n",
    "        filtered_sentence.append(w) \n",
    "print(\"These are the word tokens\")\n",
    "print(\"-------------------------\")\n",
    "print(word_tokens) \n",
    "\n",
    "print(\"\\n\")\n",
    "print(\"These are the word filtered sentenses\")\n",
    "print(\"-------------------------\")\n",
    "print(filtered_sentence) \n",
    "\n",
    "print(\"\\n\")\n",
    "print(\"These are the stemmed words\")\n",
    "print(\"-------------------------\")\n",
    "print(phase1)"
   ]
  },
  {
   "cell_type": "code",
   "execution_count": null,
   "metadata": {},
   "outputs": [],
   "source": []
  }
 ],
 "metadata": {
  "kernelspec": {
   "display_name": "Python 3",
   "language": "python",
   "name": "python3"
  },
  "language_info": {
   "codemirror_mode": {
    "name": "ipython",
    "version": 3
   },
   "file_extension": ".py",
   "mimetype": "text/x-python",
   "name": "python",
   "nbconvert_exporter": "python",
   "pygments_lexer": "ipython3",
   "version": "3.7.4"
  }
 },
 "nbformat": 4,
 "nbformat_minor": 2
}

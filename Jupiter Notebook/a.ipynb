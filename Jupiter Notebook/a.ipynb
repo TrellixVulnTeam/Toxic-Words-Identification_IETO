{
 "cells": [
  {
   "cell_type": "code",
   "execution_count": 1,
   "metadata": {},
   "outputs": [
    {
     "name": "stdout",
     "output_type": "stream",
     "text": [
      "Collecting pyscreenshot\n",
      "  Downloading https://files.pythonhosted.org/packages/ef/f2/35066da41daceabb3d6f1d44d98457f2b3ddca786181fc7cc9c45e8ef491/pyscreenshot-1.0-py2.py3-none-any.whl\n",
      "Collecting entrypoint2 (from pyscreenshot)\n",
      "  Downloading https://files.pythonhosted.org/packages/ca/7e/2c5f211ebbb37c7bd474f3b2d813bde5b5391f31c46e190b2b84d83ec9b7/entrypoint2-0.2-py2.py3-none-any.whl\n",
      "Collecting EasyProcess (from pyscreenshot)\n",
      "  Downloading https://files.pythonhosted.org/packages/32/8f/88d636f1da22a3c573259e44cfefb46a117d3f9432e2c98b1ab4a21372ad/EasyProcess-0.2.10-py2.py3-none-any.whl\n",
      "Collecting argparse (from entrypoint2->pyscreenshot)\n",
      "  Downloading https://files.pythonhosted.org/packages/f2/94/3af39d34be01a24a6e65433d19e107099374224905f1e0cc6bbe1fd22a2f/argparse-1.4.0-py2.py3-none-any.whl\n",
      "Requirement already satisfied: decorator in /home/alistar/anaconda3/lib/python3.7/site-packages (from entrypoint2->pyscreenshot) (4.4.0)\n",
      "Installing collected packages: argparse, entrypoint2, EasyProcess, pyscreenshot\n",
      "Successfully installed EasyProcess-0.2.10 argparse-1.4.0 entrypoint2-0.2 pyscreenshot-1.0\n"
     ]
    }
   ],
   "source": [
    "!pip install pyscreenshot"
   ]
  },
  {
   "cell_type": "code",
   "execution_count": 2,
   "metadata": {},
   "outputs": [
    {
     "name": "stdout",
     "output_type": "stream",
     "text": [
      "Collecting django\n",
      "\u001b[?25l  Downloading https://files.pythonhosted.org/packages/c6/b7/63d23df1e311ca0d90f41352a9efe7389ba353df95deea5676652e615420/Django-3.0.3-py3-none-any.whl (7.5MB)\n",
      "\u001b[K     |████████████████████████████████| 7.5MB 190kB/s eta 0:00:01     |███                             | 696kB 208kB/s eta 0:00:33     |███████                         | 1.6MB 600kB/s eta 0:00:10     |█████████▉                      | 2.3MB 438kB/s eta 0:00:12     |██████████▊                     | 2.5MB 438kB/s eta 0:00:12     |██████████████▍                 | 3.3MB 160kB/s eta 0:00:26     |███████████████████████████████▏| 7.3MB 208kB/s eta 0:00:01\n",
      "\u001b[?25hRequirement already satisfied: pytz in /home/alistar/anaconda3/lib/python3.7/site-packages (from django) (2019.3)\n",
      "Collecting asgiref~=3.2 (from django)\n",
      "  Downloading https://files.pythonhosted.org/packages/a5/cb/5a235b605a9753ebcb2730c75e610fb51c8cab3f01230080a8229fa36adb/asgiref-3.2.3-py2.py3-none-any.whl\n",
      "Collecting sqlparse>=0.2.2 (from django)\n",
      "\u001b[?25l  Downloading https://files.pythonhosted.org/packages/85/ee/6e821932f413a5c4b76be9c5936e313e4fc626b33f16e027866e1d60f588/sqlparse-0.3.1-py2.py3-none-any.whl (40kB)\n",
      "\u001b[K     |████████████████████████████████| 40kB 249kB/s eta 0:00:01\n",
      "\u001b[?25hInstalling collected packages: asgiref, sqlparse, django\n",
      "Successfully installed asgiref-3.2.3 django-3.0.3 sqlparse-0.3.1\n",
      "Collecting tweepy\n",
      "  Downloading https://files.pythonhosted.org/packages/36/1b/2bd38043d22ade352fc3d3902cf30ce0e2f4bf285be3b304a2782a767aec/tweepy-3.8.0-py2.py3-none-any.whl\n",
      "Requirement already satisfied: PySocks>=1.5.7 in /home/alistar/anaconda3/lib/python3.7/site-packages (from tweepy) (1.7.1)\n",
      "Requirement already satisfied: six>=1.10.0 in /home/alistar/anaconda3/lib/python3.7/site-packages (from tweepy) (1.12.0)\n",
      "Requirement already satisfied: requests>=2.11.1 in /home/alistar/anaconda3/lib/python3.7/site-packages (from tweepy) (2.22.0)\n",
      "Collecting requests-oauthlib>=0.7.0 (from tweepy)\n",
      "  Downloading https://files.pythonhosted.org/packages/a3/12/b92740d845ab62ea4edf04d2f4164d82532b5a0b03836d4d4e71c6f3d379/requests_oauthlib-1.3.0-py2.py3-none-any.whl\n",
      "Requirement already satisfied: certifi>=2017.4.17 in /home/alistar/anaconda3/lib/python3.7/site-packages (from requests>=2.11.1->tweepy) (2019.9.11)\n",
      "Requirement already satisfied: chardet<3.1.0,>=3.0.2 in /home/alistar/anaconda3/lib/python3.7/site-packages (from requests>=2.11.1->tweepy) (3.0.4)\n",
      "Requirement already satisfied: urllib3!=1.25.0,!=1.25.1,<1.26,>=1.21.1 in /home/alistar/anaconda3/lib/python3.7/site-packages (from requests>=2.11.1->tweepy) (1.24.2)\n",
      "Requirement already satisfied: idna<2.9,>=2.5 in /home/alistar/anaconda3/lib/python3.7/site-packages (from requests>=2.11.1->tweepy) (2.8)\n",
      "Collecting oauthlib>=3.0.0 (from requests-oauthlib>=0.7.0->tweepy)\n",
      "\u001b[?25l  Downloading https://files.pythonhosted.org/packages/05/57/ce2e7a8fa7c0afb54a0581b14a65b56e62b5759dbc98e80627142b8a3704/oauthlib-3.1.0-py2.py3-none-any.whl (147kB)\n",
      "\u001b[K     |████████████████████████████████| 153kB 158kB/s eta 0:00:01\n",
      "\u001b[?25hInstalling collected packages: oauthlib, requests-oauthlib, tweepy\n",
      "Successfully installed oauthlib-3.1.0 requests-oauthlib-1.3.0 tweepy-3.8.0\n"
     ]
    }
   ],
   "source": [
    "!pip install django\n",
    "!pip install tweepy"
   ]
  }
 ],
 "metadata": {
  "kernelspec": {
   "display_name": "Python 3",
   "language": "python",
   "name": "python3"
  },
  "language_info": {
   "codemirror_mode": {
    "name": "ipython",
    "version": 3
   },
   "file_extension": ".py",
   "mimetype": "text/x-python",
   "name": "python",
   "nbconvert_exporter": "python",
   "pygments_lexer": "ipython3",
   "version": "3.7.4"
  }
 },
 "nbformat": 4,
 "nbformat_minor": 2
}

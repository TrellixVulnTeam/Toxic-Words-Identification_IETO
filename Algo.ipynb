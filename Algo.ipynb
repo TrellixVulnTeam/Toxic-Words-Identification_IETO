{
 "metadata": {
  "language_info": {
   "codemirror_mode": {
    "name": "ipython",
    "version": 3
   },
   "file_extension": ".py",
   "mimetype": "text/x-python",
   "name": "python",
   "nbconvert_exporter": "python",
   "pygments_lexer": "ipython3",
   "version": "3.8.5-final"
  },
  "orig_nbformat": 2,
  "kernelspec": {
   "name": "python3",
   "display_name": "Python 3",
   "language": "python"
  }
 },
 "nbformat": 4,
 "nbformat_minor": 2,
 "cells": [
  {
   "cell_type": "code",
   "execution_count": 13,
   "metadata": {},
   "outputs": [
    {
     "output_type": "stream",
     "name": "stdout",
     "text": [
      "(1, 'what the hell were you thinking', 'alistar', 1, '2020-10-25 19:00:39.977469')\n(2, 'doing great bro', 'Ongaya', 0, '2020-10-25 19:17:51.263830')\n(3, 'fuck off you shit', 'alistar', 1, '2020-10-25 20:00:15.464192')\n<sqlite3.Cursor object at 0x0000023E0B631B90>\nLooking for \"kill\" in \"<sqlite3.Cursor object at 0x0000023E0B631B90>\" -> Looking for \"hell\" in \"<sqlite3.Cursor object at 0x0000023E0B631B90>\" -> Looking for \"damn\" in \"<sqlite3.Cursor object at 0x0000023E0B631B90>\" -> Looking for \"shit\" in \"<sqlite3.Cursor object at 0x0000023E0B631B90>\" -> "
     ]
    }
   ],
   "source": [
    "import sqlite3\n",
    "\n",
    "# Create a SQL connection to our SQLite database\n",
    "con = sqlite3.connect(\"db.sqlite3\")\n",
    "\n",
    "cur = con.cursor()\n",
    "messages = cur.execute('SELECT message FROM comp_493_message')\n",
    "# The result of a \"cursor.execute\" can be iterated over by row\n",
    "for row in cur.execute('SELECT * FROM comp_493_message'):\n",
    "    print(row)\n",
    "\n",
    "# Be sure to close the connection\n",
    "\n",
    "print(messages)\n",
    "import re\n",
    "\n",
    "list = [\"guru99 get\", \"guru99 give\", \"guru Selenium\"]\n",
    "for element in list:\n",
    "    z = re.match(\"(g\\w+)\\W(g\\w+)\", element)\n",
    "if z:\n",
    "    print((z.groups()))\n",
    "    \n",
    "patterns = ['kill', 'hell', 'damn', 'shit']\n",
    "text = str(messages)\n",
    "for pattern in patterns:\n",
    "    print('Looking for \"%s\" in \"%s\" ->' % (pattern, text), end=' ')\n",
    "    if re.findall(pattern, text):\n",
    "        print('found a match! \"%s\" in \"%s\"' % (pattern, text))\n",
    "\n",
    "\n",
    "\n",
    "con.close()\n"
   ]
  },
  {
   "cell_type": "code",
   "execution_count": 5,
   "metadata": {},
   "outputs": [
    {
     "output_type": "stream",
     "name": "stdout",
     "text": [
      "[('what the hell were you thinking', 'alistar'), ('doing great bro', 'Ongaya'), ('fuck off you shit', 'alistar')]\n\n\n[('what the hell were you thinking', 'alistar'), ('doing great bro', 'Ongaya'), ('fuck off you shit', 'alistar')]\n\n\nfound a match! \"hell\" in \"[('what the hell were you thinking', 'alistar'), ('doing great bro', 'Ongaya'), ('fuck off you shit', 'alistar')]\"\n\n\nfound a match! \"shit\" in \"[('what the hell were you thinking', 'alistar'), ('doing great bro', 'Ongaya'), ('fuck off you shit', 'alistar')]\"\n\n\nfound a match! \"what\" in \"[('what the hell were you thinking', 'alistar'), ('doing great bro', 'Ongaya'), ('fuck off you shit', 'alistar')]\"\n\n\n"
     ]
    }
   ],
   "source": [
    "import sqlite3\n",
    "import re\n",
    "# Create a SQL connection to our SQLite database\n",
    "con = sqlite3.connect(\"db.sqlite3\")\n",
    "\n",
    "cur = con.cursor()\n",
    "\n",
    "# Return all results of query\n",
    "cur.execute('SELECT message, username FROM comp_493_message')\n",
    "message = cur.fetchall()\n",
    "print(message)\n",
    "print('\\n')\n",
    "print(str(message))\n",
    "# Return first result of query\n",
    "#cur.execute('SELECT species FROM species WHERE taxa=\"Bird\"')\n",
    "#cur.fetchone()\n",
    "text = str(message)\n",
    "print(\"\\n\")\n",
    "text1 = \"'s very sad to see people just coming in there to chat and when they ask of your country and you tell them, they just close the chat window. That is totally rude. If you are not ready to chat with people from certain countries, please suit yourself and don't enter the chat room. It's really unfair to close the chat window whiles the person thinks you are still chatting\"\n",
    "\n",
    "patterns = ['kill', 'hell', 'damn', 'shit', \"sad\", 'what']\n",
    "for pattern in patterns:\n",
    "    if re.search(pattern, text):\n",
    "        print('found a match! \"%s\" in \"%s\"' % (pattern, text))\n",
    "        print(\"\\n\")\n",
    "        #import tkMessageBox\n",
    "         #tkMessageBox.showinfo(title=\"Threat\", message=\"Hello World!\")\n",
    "\n",
    "\n",
    "# Be sure to close the connection\n",
    "con.close()"
   ]
  },
  {
   "cell_type": "code",
   "execution_count": 31,
   "metadata": {},
   "outputs": [
    {
     "output_type": "stream",
     "name": "stdout",
     "text": [
      "0    what the hell were you thinking\n1                    doing great bro\n2                  fuck off you shit\nName: message, dtype: object\n\n\n0    what the hell were you thinking\n1                    doing great bro\n2                  fuck off you shit\nName: message, dtype: object\n"
     ]
    },
    {
     "output_type": "error",
     "ename": "TypeError",
     "evalue": "unhashable type: 'list'",
     "traceback": [
      "\u001b[1;31m---------------------------------------------------------------------------\u001b[0m",
      "\u001b[1;31mTypeError\u001b[0m                                 Traceback (most recent call last)",
      "\u001b[1;32m<ipython-input-31-2e60f7180b5e>\u001b[0m in \u001b[0;36m<module>\u001b[1;34m\u001b[0m\n\u001b[0;32m     18\u001b[0m \u001b[1;33m\u001b[0m\u001b[0m\n\u001b[0;32m     19\u001b[0m \u001b[0mtxt\u001b[0m \u001b[1;33m=\u001b[0m \u001b[1;34m\"The rain in Spain\"\u001b[0m\u001b[1;33m\u001b[0m\u001b[1;33m\u001b[0m\u001b[0m\n\u001b[1;32m---> 20\u001b[1;33m \u001b[0mx\u001b[0m \u001b[1;33m=\u001b[0m \u001b[0mre\u001b[0m\u001b[1;33m.\u001b[0m\u001b[0mfindall\u001b[0m\u001b[1;33m(\u001b[0m\u001b[0mpatterns\u001b[0m\u001b[1;33m,\u001b[0m \u001b[0mtext1\u001b[0m\u001b[1;33m)\u001b[0m\u001b[1;33m\u001b[0m\u001b[1;33m\u001b[0m\u001b[0m\n\u001b[0m\u001b[0;32m     21\u001b[0m \u001b[0mprint\u001b[0m\u001b[1;33m(\u001b[0m\u001b[0mx\u001b[0m\u001b[1;33m)\u001b[0m\u001b[1;33m\u001b[0m\u001b[1;33m\u001b[0m\u001b[0m\n\u001b[0;32m     22\u001b[0m \u001b[1;33m\u001b[0m\u001b[0m\n",
      "\u001b[1;32m~\\AppData\\Local\\Programs\\Python\\Python37\\lib\\re.py\u001b[0m in \u001b[0;36mfindall\u001b[1;34m(pattern, string, flags)\u001b[0m\n\u001b[0;32m    221\u001b[0m \u001b[1;33m\u001b[0m\u001b[0m\n\u001b[0;32m    222\u001b[0m     Empty matches are included in the result.\"\"\"\n\u001b[1;32m--> 223\u001b[1;33m     \u001b[1;32mreturn\u001b[0m \u001b[0m_compile\u001b[0m\u001b[1;33m(\u001b[0m\u001b[0mpattern\u001b[0m\u001b[1;33m,\u001b[0m \u001b[0mflags\u001b[0m\u001b[1;33m)\u001b[0m\u001b[1;33m.\u001b[0m\u001b[0mfindall\u001b[0m\u001b[1;33m(\u001b[0m\u001b[0mstring\u001b[0m\u001b[1;33m)\u001b[0m\u001b[1;33m\u001b[0m\u001b[1;33m\u001b[0m\u001b[0m\n\u001b[0m\u001b[0;32m    224\u001b[0m \u001b[1;33m\u001b[0m\u001b[0m\n\u001b[0;32m    225\u001b[0m \u001b[1;32mdef\u001b[0m \u001b[0mfinditer\u001b[0m\u001b[1;33m(\u001b[0m\u001b[0mpattern\u001b[0m\u001b[1;33m,\u001b[0m \u001b[0mstring\u001b[0m\u001b[1;33m,\u001b[0m \u001b[0mflags\u001b[0m\u001b[1;33m=\u001b[0m\u001b[1;36m0\u001b[0m\u001b[1;33m)\u001b[0m\u001b[1;33m:\u001b[0m\u001b[1;33m\u001b[0m\u001b[1;33m\u001b[0m\u001b[0m\n",
      "\u001b[1;32m~\\AppData\\Local\\Programs\\Python\\Python37\\lib\\re.py\u001b[0m in \u001b[0;36m_compile\u001b[1;34m(pattern, flags)\u001b[0m\n\u001b[0;32m    274\u001b[0m         \u001b[0mflags\u001b[0m \u001b[1;33m=\u001b[0m \u001b[0mflags\u001b[0m\u001b[1;33m.\u001b[0m\u001b[0mvalue\u001b[0m\u001b[1;33m\u001b[0m\u001b[1;33m\u001b[0m\u001b[0m\n\u001b[0;32m    275\u001b[0m     \u001b[1;32mtry\u001b[0m\u001b[1;33m:\u001b[0m\u001b[1;33m\u001b[0m\u001b[1;33m\u001b[0m\u001b[0m\n\u001b[1;32m--> 276\u001b[1;33m         \u001b[1;32mreturn\u001b[0m \u001b[0m_cache\u001b[0m\u001b[1;33m[\u001b[0m\u001b[0mtype\u001b[0m\u001b[1;33m(\u001b[0m\u001b[0mpattern\u001b[0m\u001b[1;33m)\u001b[0m\u001b[1;33m,\u001b[0m \u001b[0mpattern\u001b[0m\u001b[1;33m,\u001b[0m \u001b[0mflags\u001b[0m\u001b[1;33m]\u001b[0m\u001b[1;33m\u001b[0m\u001b[1;33m\u001b[0m\u001b[0m\n\u001b[0m\u001b[0;32m    277\u001b[0m     \u001b[1;32mexcept\u001b[0m \u001b[0mKeyError\u001b[0m\u001b[1;33m:\u001b[0m\u001b[1;33m\u001b[0m\u001b[1;33m\u001b[0m\u001b[0m\n\u001b[0;32m    278\u001b[0m         \u001b[1;32mpass\u001b[0m\u001b[1;33m\u001b[0m\u001b[1;33m\u001b[0m\u001b[0m\n",
      "\u001b[1;31mTypeError\u001b[0m: unhashable type: 'list'"
     ]
    }
   ],
   "source": [
    "import pandas as pd\n",
    "import sqlite3\n",
    "import re\n",
    "\n",
    "# Read sqlite query results into a pandas DataFrame\n",
    "con = sqlite3.connect(\"db.sqlite3\")\n",
    "df = pd.read_sql_query(\"SELECT * from comp_493_message\", con)\n",
    "message = df.message\n",
    "# Verify that result of SQL query is stored in the dataframe\n",
    "print(message)\n",
    "print('\\n')\n",
    "text = str(message)\n",
    "print(text)\n",
    "\n",
    "text = str(messages)\n",
    "text1 = \"fuck you damn shit\"\n",
    "patterns = ['kill', 'hell', 'damn', 'shit']\n",
    "\n",
    "txt = \"The rain in Spain\"\n",
    "x = re.findall(patterns, text1)\n",
    "print(x)\n",
    "\n",
    "for pattern in patterns:\n",
    "    if re.search(pattern, text):\n",
    "        print('found a match! \"%s\" in \"%s\"' % (pattern, text1))\n",
    "con.close()"
   ]
  }
 ]
}